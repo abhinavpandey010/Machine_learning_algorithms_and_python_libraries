{
 "cells": [
  {
   "cell_type": "markdown",
   "id": "c599bb47",
   "metadata": {},
   "source": [
    "### What is Pandas\n",
    "\n",
    "Pandas is a fast,powerful,flexible and easy to use open source data analysis and manipulation too,built on top of the python language "
   ]
  },
  {
   "cell_type": "markdown",
   "id": "ad64a0d8",
   "metadata": {},
   "source": [
    "#### Pandas series\n",
    "\n",
    "A panda series is like a column in a table.it is a 1-d array holding data of any type"
   ]
  },
  {
   "cell_type": "markdown",
   "id": "f00a095a",
   "metadata": {},
   "source": [
    "### Importing pandas"
   ]
  },
  {
   "cell_type": "code",
   "execution_count": 7,
   "id": "06e0e964",
   "metadata": {},
   "outputs": [],
   "source": [
    "import numpy as numpy\n",
    "import pandas as pd"
   ]
  },
  {
   "cell_type": "markdown",
   "id": "f38f5e1f",
   "metadata": {},
   "source": [
    "#### Series from lists"
   ]
  },
  {
   "cell_type": "code",
   "execution_count": 4,
   "id": "e5df4619",
   "metadata": {},
   "outputs": [
    {
     "name": "stdout",
     "output_type": "stream",
     "text": [
      "0        India\n",
      "1     Pakistan\n",
      "2          USA\n",
      "3    Sri Lanka\n",
      "dtype: object\n"
     ]
    }
   ],
   "source": [
    "# String\n",
    "country = ['India','Pakistan','USA','Sri Lanka']\n",
    "\n",
    "countrySeries = pd.Series(country)\n",
    "\n",
    "print(countrySeries)"
   ]
  },
  {
   "cell_type": "code",
   "execution_count": 5,
   "id": "170f6982",
   "metadata": {},
   "outputs": [
    {
     "name": "stdout",
     "output_type": "stream",
     "text": [
      "0    15\n",
      "1    82\n",
      "2    78\n",
      "3    95\n",
      "dtype: int64\n"
     ]
    }
   ],
   "source": [
    "#integers\n",
    "\n",
    "runs = [15,82,78,95]\n",
    "\n",
    "seriesOfRuns = pd.Series(runs)\n",
    "\n",
    "print(seriesOfRuns)"
   ]
  },
  {
   "cell_type": "code",
   "execution_count": 6,
   "id": "9f64b28c",
   "metadata": {},
   "outputs": [
    {
     "data": {
      "text/plain": [
       "maths    45\n",
       "phy      78\n",
       "chem     89\n",
       "dtype: int64"
      ]
     },
     "execution_count": 6,
     "metadata": {},
     "output_type": "execute_result"
    }
   ],
   "source": [
    "#custom index\n",
    "marks = [45,78,89]\n",
    "subjects = ['maths','phy','chem']\n",
    "\n",
    "pd.Series(marks,index=subjects)"
   ]
  },
  {
   "cell_type": "code",
   "execution_count": 7,
   "id": "c812f3fb",
   "metadata": {},
   "outputs": [
    {
     "data": {
      "text/plain": [
       "maths    45\n",
       "phy      78\n",
       "chem     89\n",
       "Name: vasu ke marks, dtype: int64"
      ]
     },
     "execution_count": 7,
     "metadata": {},
     "output_type": "execute_result"
    }
   ],
   "source": [
    "#setting a name\n",
    "\n",
    "pd.Series(marks,index=subjects,name='vasu ke marks')"
   ]
  },
  {
   "cell_type": "markdown",
   "id": "c810ccef",
   "metadata": {},
   "source": [
    "#### Series from dict"
   ]
  },
  {
   "cell_type": "code",
   "execution_count": 8,
   "id": "ffd94e09",
   "metadata": {},
   "outputs": [
    {
     "name": "stdout",
     "output_type": "stream",
     "text": [
      "maths    89\n",
      "phy      78\n",
      "chem     45\n",
      "Name: marks of xyz, dtype: int64\n"
     ]
    }
   ],
   "source": [
    "marks = {\n",
    "    'maths':89,\n",
    "    'phy':78,\n",
    "    'chem':45\n",
    "}\n",
    "\n",
    "marks_series = pd.Series(marks,name = 'marks of xyz')\n",
    "print(marks_series)"
   ]
  },
  {
   "cell_type": "markdown",
   "id": "6f8c05da",
   "metadata": {},
   "source": [
    "#### Setting attributes"
   ]
  },
  {
   "cell_type": "code",
   "execution_count": null,
   "id": "c5553669",
   "metadata": {},
   "outputs": [
    {
     "data": {
      "text/plain": [
       "3"
      ]
     },
     "execution_count": 9,
     "metadata": {},
     "output_type": "execute_result"
    }
   ],
   "source": [
    "# size\n",
    "marks_series.size"
   ]
  },
  {
   "cell_type": "code",
   "execution_count": 11,
   "id": "f7e51f2a",
   "metadata": {},
   "outputs": [
    {
     "data": {
      "text/plain": [
       "'marks of xyz'"
      ]
     },
     "execution_count": 11,
     "metadata": {},
     "output_type": "execute_result"
    }
   ],
   "source": [
    "# name\n",
    "marks_series.name"
   ]
  },
  {
   "cell_type": "code",
   "execution_count": null,
   "id": "bc48bf74",
   "metadata": {},
   "outputs": [
    {
     "data": {
      "text/plain": [
       "True"
      ]
     },
     "execution_count": 21,
     "metadata": {},
     "output_type": "execute_result"
    }
   ],
   "source": [
    "# is_unique\n",
    "marks_series.is_unique\n",
    "\n",
    "pd.Series([1,2,1,5,4,6,7,1]).is_unique"
   ]
  },
  {
   "cell_type": "code",
   "execution_count": 18,
   "id": "165d25b8",
   "metadata": {},
   "outputs": [
    {
     "data": {
      "text/plain": [
       "Index(['maths', 'phy', 'chem'], dtype='object')"
      ]
     },
     "execution_count": 18,
     "metadata": {},
     "output_type": "execute_result"
    }
   ],
   "source": [
    "# index \n",
    "marks_series.index # this is dictionary\n"
   ]
  },
  {
   "cell_type": "code",
   "execution_count": 22,
   "id": "24cde355",
   "metadata": {},
   "outputs": [
    {
     "data": {
      "text/plain": [
       "RangeIndex(start=0, stop=4, step=1)"
      ]
     },
     "execution_count": 22,
     "metadata": {},
     "output_type": "execute_result"
    }
   ],
   "source": [
    "seriesOfRuns.index #this is list"
   ]
  },
  {
   "cell_type": "code",
   "execution_count": 24,
   "id": "d87da107",
   "metadata": {},
   "outputs": [
    {
     "data": {
      "text/plain": [
       "array([89, 78, 45])"
      ]
     },
     "execution_count": 24,
     "metadata": {},
     "output_type": "execute_result"
    }
   ],
   "source": [
    "# values\n",
    "marks_series.values # it return numpy array"
   ]
  },
  {
   "cell_type": "markdown",
   "id": "b9d83144",
   "metadata": {},
   "source": [
    "#### Series using read_csv"
   ]
  },
  {
   "cell_type": "code",
   "execution_count": null,
   "id": "64415582",
   "metadata": {},
   "outputs": [
    {
     "data": {
      "text/plain": [
       "0       48\n",
       "1       57\n",
       "2       40\n",
       "3       43\n",
       "4       44\n",
       "      ... \n",
       "360    231\n",
       "361    226\n",
       "362    155\n",
       "363    144\n",
       "364    172\n",
       "Name: Subscribers gained, Length: 365, dtype: int64"
      ]
     },
     "execution_count": 13,
     "metadata": {},
     "output_type": "execute_result"
    }
   ],
   "source": [
    "# with one col\n",
    "subscribers = pd.read_csv('subs.csv').squeeze(\"columns\")\n",
    "# type(pd.read_csv('subs.csv'))# dataframe\n",
    "subscribers"
   ]
  },
  {
   "cell_type": "code",
   "execution_count": null,
   "id": "b9968726",
   "metadata": {},
   "outputs": [
    {
     "data": {
      "text/plain": [
       "match_no\n",
       "1       1\n",
       "2      23\n",
       "3      13\n",
       "4      12\n",
       "5       1\n",
       "       ..\n",
       "211     0\n",
       "212    20\n",
       "213    73\n",
       "214    25\n",
       "215     7\n",
       "Name: runs, Length: 215, dtype: int64"
      ]
     },
     "execution_count": 22,
     "metadata": {},
     "output_type": "execute_result"
    }
   ],
   "source": [
    "# with two col\n",
    "vk = pd.read_csv('kohli_ipl.csv',index_col='match_no').squeeze(\"columns\")\n",
    "vk"
   ]
  },
  {
   "cell_type": "code",
   "execution_count": null,
   "id": "45d983bc",
   "metadata": {},
   "outputs": [
    {
     "data": {
      "text/plain": [
       "movie\n",
       "Uri: The Surgical Strike                   Vicky Kaushal\n",
       "Battalion 609                                Vicky Ahuja\n",
       "The Accidental Prime Minister (film)         Anupam Kher\n",
       "Why Cheat India                            Emraan Hashmi\n",
       "Evening Shadows                         Mona Ambegaonkar\n",
       "                                              ...       \n",
       "Hum Tumhare Hain Sanam                    Shah Rukh Khan\n",
       "Aankhen (2002 film)                     Amitabh Bachchan\n",
       "Saathiya (film)                             Vivek Oberoi\n",
       "Company (film)                                Ajay Devgn\n",
       "Awara Paagal Deewana                        Akshay Kumar\n",
       "Name: lead, Length: 1500, dtype: object"
      ]
     },
     "execution_count": 23,
     "metadata": {},
     "output_type": "execute_result"
    }
   ],
   "source": [
    "# with three col\n",
    "movies = pd.read_csv('bollywood.csv',index_col='movie').squeeze(\"columns\")\n",
    "movies"
   ]
  }
 ],
 "metadata": {
  "kernelspec": {
   "display_name": "venv",
   "language": "python",
   "name": "python3"
  },
  "language_info": {
   "codemirror_mode": {
    "name": "ipython",
    "version": 3
   },
   "file_extension": ".py",
   "mimetype": "text/x-python",
   "name": "python",
   "nbconvert_exporter": "python",
   "pygments_lexer": "ipython3",
   "version": "3.13.3"
  }
 },
 "nbformat": 4,
 "nbformat_minor": 5
}
